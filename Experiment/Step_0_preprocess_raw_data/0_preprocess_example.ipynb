{
 "cells": [
  {
   "cell_type": "code",
   "execution_count": 1,
   "metadata": {},
   "outputs": [
    {
     "name": "stdout",
     "output_type": "stream",
     "text": [
      "/home/pan/Experiments/EXPs/scLLM_workspace/EMT-LM/Experiment/Step_0_preprocess_raw_data\n",
      "⭐️ root folder for project: /home/pan/Experiments/EXPs/scLLM_workspace/EMT-LM\n",
      "(1) data path: /home/pan/Experiments/EXPs/scLLM_workspace/EMT-LM/Experiment/support_data/cook_toy.h5ad\n",
      "(2) vocab loc: /home/pan/Experiments/EXPs/scLLM_workspace/EMT-LM/Experiment/support_data/vocab_gene2vec_16906.pkl\n",
      "(3) vocab json: /home/pan/Experiments/EXPs/scLLM_workspace/EMT-LM/Experiment/support_data/vocab_16k.json\n",
      "(4) target label: Ground_truth\n"
     ]
    }
   ],
   "source": [
    "# get loc of ipython file\n",
    "import os\n",
    "notebook_path = os.getcwd()\n",
    "print(notebook_path)\n",
    "root = os.path.dirname(os.path.dirname(notebook_path))\n",
    "print(f\"⭐️ root folder for project: {root}\")\n",
    "\n",
    "import sys\n",
    "sys.path.append(root)\n",
    "\n",
    "save_root = \"Path/root/to/dataset/\"\n",
    "\n",
    "# start with a vocab list\n",
    "# this related with the gene2vec model\n",
    "#----> pre-trained part\n",
    "vocab_loc = root +\"/Experiment/support_data/vocab_gene2vec_16906.pkl\"\n",
    "vocab_json = root +\"/Experiment/support_data/vocab_16k.json\"\n",
    "target_label = 'Ground_truth' # the label to be predicted\n",
    "data_path = root + \"/Experiment/support_data/cook_toy.h5ad\"\n",
    "print(f\"(1) data path: {data_path}\")\n",
    "print(f\"(2) vocab loc: {vocab_loc}\")\n",
    "print(f\"(3) vocab json: {vocab_json}\")\n",
    "print(f\"(4) target label: {target_label}\")\n"
   ]
  },
  {
   "cell_type": "code",
   "execution_count": 2,
   "metadata": {},
   "outputs": [
    {
     "name": "stdout",
     "output_type": "stream",
     "text": [
      "AnnData object with n_obs × n_vars = 24 × 11058\n",
      "    obs: 'CellLine', 'stimulus', 'Experiment', 'pseudotimes', 'Ground_truth', 'Tissue', 'batch'\n",
      "    obsm: 'X_pca', 'X_umap', 'X_umap_pseudo'\n",
      "['3d', '7d', '1d', '1d_rm', '8h_rm', '3d_rm', '8h', '0d']\n",
      "Categories (8, object): ['0d', '1d', '1d_rm', '3d', '3d_rm', '7d', '8h', '8h_rm']\n",
      "['Lung', 'Ovarian', 'Prostate', 'Breast']\n",
      "Categories (4, object): ['Breast', 'Lung', 'Ovarian', 'Prostate']\n",
      "['A549', 'OVCA420', 'DU145', 'MCF7']\n",
      "Categories (4, object): ['A549', 'DU145', 'MCF7', 'OVCA420']\n",
      "['TGFb']\n",
      "Categories (1, object): ['TGFb']\n"
     ]
    }
   ],
   "source": [
    "# check the data\n",
    "import scanpy as sc\n",
    "import pandas as pd\n",
    "import numpy as np\n",
    "\n",
    "adata = sc.read(data_path)\n",
    "print(adata)\n",
    "print(adata.obs[\"Ground_truth\"].unique())\n",
    "print(adata.obs[\"Tissue\"].unique())\n",
    "print(adata.obs[\"CellLine\"].unique())\n",
    "print(adata.obs[\"stimulus\"].unique())"
   ]
  },
  {
   "cell_type": "code",
   "execution_count": 3,
   "metadata": {},
   "outputs": [
    {
     "name": "stdout",
     "output_type": "stream",
     "text": [
      "Dataset_para(var_idx=None, obs_idx='Ground_truth', vocab_loc='/home/pan/Experiments/EXPs/scLLM_workspace/EMT-LM/Experiment/support_data/vocab_16k.json', gene_vocab=None, use_key='X', filter_gene_by_counts=False, filter_cell_by_counts=200, normalize_total=10000.0, result_normed_key='X_normed', log1p=True, result_log1p_key='X_log1p', log1p_base=2, subset_hvg=False, hvg_use_key=None, hvg_flavor='seurat_v3', binning=None, result_binned_key='X_binned', tokenize_name='scBERT', return_pt=True, append_cls=True, include_zero_gene=False, cls_token='<cls>', max_len=16000, pad_token='<pad>', pad_value=-2, cls_appended=True, mask_ratio=0.15, mask_value=-1, preprocessed_loc=None, data_layer_name='X_log1p', label_key='Ground_truth', batch_label_key=None, cls_nb=5, binarize=None, bins=None, bin_min=None, bin_max=None, save_in_obs=True, auto_map_str_labels=True, map_dict=None, n_splits=1, test_size=None, random_state=2023, shuffle=True, sort_seq_batch=False)\n"
     ]
    }
   ],
   "source": [
    "\n",
    "from scLLM.Dataset.paras import Dataset_para\n",
    "# define pre-processing by follow original implementation of scBERT\n",
    "\n",
    "from scLLM.Dataset.paras import Dataset_para\n",
    "# define pre-processing by follow original implementation of scBERT\n",
    "dataset_para_cls = Dataset_para(\n",
    "                            var_idx=None,\n",
    "                            obs_idx=\"Ground_truth\",\n",
    "                            vocab_loc=vocab_json,\n",
    "                            filter_gene_by_counts=False,\n",
    "                            filter_cell_by_counts=200,\n",
    "                            log1p=True,\n",
    "                            log1p_base=2,\n",
    "\n",
    "                            #\n",
    "                            tokenize_name=\"scBERT\",\n",
    "                            cls_nb=5,\n",
    "                            data_layer_name=\"X_log1p\",\n",
    "                            label_key = target_label,#\"Ground_truth\",#\"Ground_truth\",\n",
    "\n",
    "                            test_size=None,#0.2, #use all data to inference\n",
    "                            binarize=None, # not binarize use original label\n",
    "\n",
    "                            )\n",
    "\n",
    "dataset_para_reg = Dataset_para(\n",
    "        vocab_loc=vocab_json,\n",
    "        var_idx = None,#\"genes.gene_short_name\",\n",
    "        obs_idx=\"pseudotimes\",\n",
    "        filter_gene_by_counts=False,\n",
    "        filter_cell_by_counts=200,\n",
    "        log1p=True,\n",
    "        log1p_base=2,\n",
    "\n",
    "        tokenize_name=\"scBERT\",\n",
    "        cls_nb=1,\n",
    "        data_layer_name=\"X_log1p\",\n",
    "\n",
    "        auto_map_str_labels=False,\n",
    "        label_key = target_label,#\"pseudotimes\",\n",
    "\n",
    "        test_size=0.2,#0.2, #use all data to inference\n",
    "        binarize=None, # not binarize use original label for regression\n",
    "    )\n",
    "\n",
    "dataset_para = dataset_para_cls#dataset_para_cls\n",
    "print(dataset_para)"
   ]
  },
  {
   "cell_type": "code",
   "execution_count": 4,
   "metadata": {},
   "outputs": [
    {
     "name": "stderr",
     "output_type": "stream",
     "text": [
      "/home/pan/anaconda3/envs/scLLM/lib/python3.9/site-packages/tqdm/auto.py:21: TqdmWarning: IProgress not found. Please update jupyter and ipywidgets. See https://ipywidgets.readthedocs.io/en/stable/user_install.html\n",
      "  from .autonotebook import tqdm as notebook_tqdm\n",
      "scLLM - INFO - Initializing preprocessor ...\n",
      "scLLM - INFO - use default vocab from dataset_para\n",
      "scLLM - INFO - load vocab from /home/pan/Experiments/EXPs/scLLM_workspace/EMT-LM/Experiment/support_data/vocab_16k.json\n",
      "scLLM - INFO - Load data from anndata object.\n",
      "scLLM - DEBUG - In original adata with gene 11058\n",
      "scLLM - DEBUG - In original adata with gene 11058\n",
      "scLLM - DEBUG - processing 0/16906\n",
      "scLLM - DEBUG - processing 2000/16906\n",
      "scLLM - DEBUG - processing 4000/16906\n",
      "scLLM - DEBUG - processing 6000/16906\n",
      "scLLM - DEBUG - processing 8000/16906\n",
      "scLLM - DEBUG - processing 10000/16906\n",
      "scLLM - DEBUG - processing 12000/16906\n",
      "scLLM - DEBUG - processing 14000/16906\n",
      "scLLM - DEBUG - processing 16000/16906\n",
      "scLLM - INFO - create anndata in scLLM format..\n",
      "scLLM - DEBUG - restore anndata in scLLM format..\n",
      "scLLM - INFO - Done.\n",
      "scLLM - INFO - Preprocessing data with shape: (24, 16906) ...\n",
      "scLLM - INFO - Filtering cells by counts ...\n",
      "scLLM - INFO - Filtered cells: 24\n",
      "scLLM - INFO - Normalizing total counts ...\n",
      "scLLM - INFO - Log1p transforming ...\n",
      "scLLM - INFO - Preprocessing finished.\n"
     ]
    }
   ],
   "source": [
    "# if this is the first time to run, need this block to init translate=True\n",
    "# init preprocessor\n",
    "from scLLM.Dataset.Reader import scReader\n",
    "data_reader = scReader(dataset_para=dataset_para)\n",
    "# init vocab\n",
    "data_reader.init_vocab()\n",
    "\n",
    "# load data\n",
    "data_reader.load_adata(loc = data_path,translate=True)\n",
    "\n",
    "## preprocess\n",
    "data_reader.preprocess()\n"
   ]
  },
  {
   "cell_type": "code",
   "execution_count": 5,
   "metadata": {},
   "outputs": [
    {
     "name": "stdout",
     "output_type": "stream",
     "text": [
      "选择前的数据矩阵形状 (24, 16906)\n",
      "选择后的数据矩阵形状 (24, 16906)\n"
     ]
    }
   ],
   "source": [
    "target_stimulate = \"TGFb\"\n",
    "target_cellline = None #\"A549\" 'DU145', 'MCF7', 'OVCA420'\n",
    "map_stimulus = True\n",
    "map_cancer_type = False\n",
    "\n",
    "print(f\"选择前的数据矩阵形状 {data_reader.adata.shape}\")\n",
    "if map_stimulus:\n",
    "    stimilus_map = data_reader.adata.obs['stimulus']==target_stimulate\n",
    "    # filter out cells that are not stimulated by TGFb\n",
    "    new_adata = data_reader.adata[stimilus_map,:]\n",
    "    data_reader.adata = new_adata\n",
    "\n",
    "if map_cancer_type:\n",
    "    cancer_type_map = data_reader.adata.obs['CellLine']==target_cellline\n",
    "    # filter out cells that are not stimulated by TGFb\n",
    "    new_adata = data_reader.adata[cancer_type_map,:]\n",
    "    data_reader.adata = new_adata\n",
    "\n",
    "print(f\"选择后的数据矩阵形状 {data_reader.adata.shape}\")"
   ]
  },
  {
   "cell_type": "code",
   "execution_count": 6,
   "metadata": {},
   "outputs": [
    {
     "name": "stdout",
     "output_type": "stream",
     "text": [
      "['3d', '7d', '1d', '1d_rm', '8h_rm', '3d_rm', '8h', '0d']\n",
      "Categories (8, object): ['0d', '1d', '1d_rm', '3d', '3d_rm', '7d', '8h', '8h_rm']\n"
     ]
    }
   ],
   "source": [
    "label_unique = data_reader.adata.obs[dataset_para.label_key].unique()\n",
    "print(label_unique)\n",
    "\n",
    "# set label_key manually if needed\n",
    "#label_dict = {'3d':0, '7d':1, '1d':2, '8h':3, '0d':4 } \n",
    "#data_reader.para.map_dict = label_dict"
   ]
  },
  {
   "cell_type": "code",
   "execution_count": 7,
   "metadata": {},
   "outputs": [
    {
     "data": {
      "text/plain": [
       "Mix2_ACGATACCATGTCGAT-1-0         3d\n",
       "Mix2_GTGCTTCCAATAGCGG-1-0         3d\n",
       "Mix2_GAGTCCGTCATCTGCC-10-0        3d\n",
       "Mix2_CATCAGATCTACGAGT-4-1         7d\n",
       "Mix1_ATGTGTGGTAGCTGCC-4-1         7d\n",
       "Mix4a_CTCGTCACACTTGGAT-4-1        7d\n",
       "Mix4b_GAGGTGACATAAAGGT-1-2        1d\n",
       "Mix2_CCTAAAGGTAGGCTGA-1-2         1d\n",
       "Mix4b_GCTGCTTTCCACTCCA-10-2       1d\n",
       "Mix2_ATTCTACAGACGCTTT-4-3      1d_rm\n",
       "Mix4a_CGTCTACTCTTCGAGA-1-3     1d_rm\n",
       "Mix4a_TGAGCATGTCCGTCAG-4-3     1d_rm\n",
       "Mix4a_ATCGAGTTCCACGTGG-1-4     8h_rm\n",
       "Mix4a_CCAGCGAAGTTAAGTG-4-4     8h_rm\n",
       "Mix2_CAGTAACCAATCCGAT-4-4      8h_rm\n",
       "Mix4b_CGATGGCGTGTGTGCC-10-5    3d_rm\n",
       "Mix2_TGCCCATCACCTATCC-4-5      3d_rm\n",
       "Mix4a_GCTCCTACAGATGGCA-10-5    3d_rm\n",
       "Mix3b_CACATAGCAATCGAAA-4-6        8h\n",
       "Mix2_ACGGGCTCAATGGAGC-7-6         8h\n",
       "Mix4b_CGGACGTTCCACTGGG-4-6        8h\n",
       "Mix1_ATCATCTAGTGGCACA-7-7         0d\n",
       "Mix4b_CGCTATCGTCAGAATA-7-7        0d\n",
       "Mix1_CTCATTACACACAGAG-7-7         0d\n",
       "Name: Ground_truth, dtype: category\n",
       "Categories (8, object): ['0d', '1d', '1d_rm', '3d', '3d_rm', '7d', '8h', '8h_rm']"
      ]
     },
     "execution_count": 7,
     "metadata": {},
     "output_type": "execute_result"
    }
   ],
   "source": [
    "data_reader.adata.obs[dataset_para.label_key]"
   ]
  },
  {
   "cell_type": "code",
   "execution_count": 8,
   "metadata": {},
   "outputs": [
    {
     "name": "stderr",
     "output_type": "stream",
     "text": [
      "scLLM - INFO - Map string labels to int automatically.\n",
      "scLLM - INFO - Mapping from {'3d': 0, '7d': 1, '1d': 2, '1d_rm': 3, '8h_rm': 4, '3d_rm': 5, '8h': 6, '0d': 7}\n",
      "/home/pan/Experiments/EXPs/scLLM_workspace/EMT-LM/scLLM/Dataset/Reader.py:263: ImplicitModificationWarning: Trying to modify attribute `.obs` of view, initializing view as actual.\n",
      "  self.adata.obs[key_name]=self.adata.obs[key_name].map(map_dict)\n",
      "scLLM - INFO - Discritize label Ground_truth in obs_names\n"
     ]
    },
    {
     "name": "stdout",
     "output_type": "stream",
     "text": [
      "trainset size:  24\n",
      "no valset\n",
      "weights:  None\n"
     ]
    }
   ],
   "source": [
    "trainset,valset,weights = data_reader.postprocess()\n",
    "\n",
    "# 输出数据集信息\n",
    "print(\"trainset size: \",len(trainset))\n",
    "print(\"valset size: \",len(valset)) if valset is not None else print(\"no valset\")\n",
    "print(\"weights: \",weights)"
   ]
  },
  {
   "cell_type": "code",
   "execution_count": 9,
   "metadata": {},
   "outputs": [],
   "source": [
    "import dill\n",
    "# 为trainset 添加其他labels\n",
    "\n",
    "dataset_from = \"/EMT_Cook_toy_\"\n",
    "#target_task = f\"/TrVal_dataset_GT_{target_stimulate}_{target_cellline}.pkl\"\n",
    "target_task = f\"TrVal_dataset_{target_label}.pkl\"\n",
    "loc = save_root + dataset_from + target_task\n",
    "# 保存 trainset 到文件，并关联相应labels\n",
    "#with open(loc,\"wb\") as f:\n",
    "#    dill.dump([trainset,valset,weights,label_dict],f)"
   ]
  }
 ],
 "metadata": {
  "kernelspec": {
   "display_name": "scLLM",
   "language": "python",
   "name": "python3"
  },
  "language_info": {
   "codemirror_mode": {
    "name": "ipython",
    "version": 3
   },
   "file_extension": ".py",
   "mimetype": "text/x-python",
   "name": "python",
   "nbconvert_exporter": "python",
   "pygments_lexer": "ipython3",
   "version": "3.9.19"
  }
 },
 "nbformat": 4,
 "nbformat_minor": 2
}
