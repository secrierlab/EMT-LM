{
 "cells": [
  {
   "cell_type": "code",
   "execution_count": 1,
   "metadata": {},
   "outputs": [],
   "source": [
    "code_loc = \"Path/to/workspace/\"\n",
    "root = \"Path/to/Data/\"\n",
    "save_root = root + \"/Step_1_data/Dataset_McF/\" \n",
    "import sys\n",
    "sys.path.append(code_loc ) "
   ]
  },
  {
   "cell_type": "code",
   "execution_count": 2,
   "metadata": {},
   "outputs": [],
   "source": [
    "# start with a vocab list\n",
    "# this related with the gene2vec model\n",
    "#----> pre-trained part\n",
    "vocab_loc = code_loc +\"/support_data/vocab_gene2vec_16906.pkl\"\n",
    "target_label = 'Ground_truth' # the label to be predicted"
   ]
  },
  {
   "cell_type": "code",
   "execution_count": 3,
   "metadata": {},
   "outputs": [],
   "source": [
    "\n",
    "data_path = root+\"/Step_0_data/2023_08_09_EMT_McFaline_vocab_scBERT.h5ad\""
   ]
  },
  {
   "cell_type": "code",
   "execution_count": 4,
   "metadata": {},
   "outputs": [
    {
     "name": "stdout",
     "output_type": "stream",
     "text": [
      "AnnData object with n_obs × n_vars = 9268 × 16906\n",
      "    obs: 'Ground_truth', 'n_counts', 'pseudotimes', 'stimulus', 'batch', 'CellLine', 'Tissue', 'Experiment'\n",
      "    uns: 'log1p', 'source_paper'\n",
      "    layers: 'X_log1p', 'X_normed'\n",
      "['Mock_inner', 'Mock_outer', 'TGFB_inner', 'TGFB_outer']\n",
      "Categories (4, object): ['Mock_inner', 'Mock_outer', 'TGFB_inner', 'TGFB_outer']\n",
      "['Breast']\n",
      "Categories (1, object): ['Breast']\n",
      "['MCF10A']\n",
      "Categories (1, object): ['MCF10A']\n",
      "['MOCK', 'TGFb']\n",
      "Categories (2, object): ['MOCK', 'TGFb']\n"
     ]
    }
   ],
   "source": [
    "# check the data\n",
    "import scanpy as sc\n",
    "import pandas as pd\n",
    "import numpy as np\n",
    "\n",
    "adata = sc.read(data_path)\n",
    "print(adata)\n",
    "print(adata.obs[\"Ground_truth\"].unique())\n",
    "print(adata.obs[\"Tissue\"].unique())\n",
    "print(adata.obs[\"CellLine\"].unique())\n",
    "print(adata.obs[\"stimulus\"].unique())"
   ]
  },
  {
   "cell_type": "code",
   "execution_count": 5,
   "metadata": {},
   "outputs": [
    {
     "name": "stdout",
     "output_type": "stream",
     "text": [
      "Dataset_para(var_idx=None, obs_idx='Ground_truth', vocab_loc='/home/shi/WorkSpace/projects/scMultiNet_workspace//Experiment/support_data/vocab_16k.json', gene_vocab=None, use_key='X', filter_gene_by_counts=False, filter_cell_by_counts=200, normalize_total=10000.0, result_normed_key='X_normed', log1p=True, result_log1p_key='X_log1p', log1p_base=2, subset_hvg=False, hvg_use_key=None, hvg_flavor='seurat_v3', binning=None, result_binned_key='X_binned', tokenize_name='scBERT', return_pt=True, append_cls=True, include_zero_gene=False, cls_token='<cls>', max_len=16000, pad_token='<pad>', pad_value=-2, cls_appended=True, mask_ratio=0.15, mask_value=-1, preprocessed_loc=None, data_layer_name='X_log1p', label_key='Ground_truth', batch_label_key=None, cls_nb=5, binarize=None, bins=None, bin_min=None, bin_max=None, save_in_obs=True, auto_map_str_labels=True, map_dict=None, n_splits=1, test_size=0.2, random_state=2023, shuffle=True, sort_seq_batch=False)\n"
     ]
    }
   ],
   "source": [
    "\n",
    "from scLLM.Dataset.paras import Dataset_para\n",
    "# define pre-processing by follow original implementation of scBERT\n",
    "\n",
    "from scLLM.Dataset.paras import Dataset_para\n",
    "# define pre-processing by follow original implementation of scBERT \n",
    "dataset_para_cls = Dataset_para(\n",
    "                            var_idx=None,\n",
    "                            obs_idx=\"Ground_truth\",\n",
    "                            vocab_loc=code_loc + \"/Experiment/support_data/vocab_16k.json\",\n",
    "                            filter_gene_by_counts=False,\n",
    "                            filter_cell_by_counts=200,\n",
    "                            log1p=True,\n",
    "                            log1p_base=2,\n",
    "\n",
    "                            #\n",
    "                            tokenize_name=\"scBERT\",\n",
    "                            cls_nb=5,\n",
    "                            data_layer_name=\"X_log1p\",\n",
    "                            label_key = target_label,#\"Ground_truth\",#\"Ground_truth\",\n",
    "\n",
    "                            test_size=0.2,#0.2, #use all data to inference\n",
    "                            binarize=None, # not binarize use original label\n",
    "\n",
    "                            )\n",
    "\n",
    "dataset_para_reg = Dataset_para(\n",
    "        vocab_loc=code_loc +\"/Experiment/support_data/vocab_16k.json\",\n",
    "        var_idx = None,#\"genes.gene_short_name\",\n",
    "        obs_idx=\"pseudotimes\",\n",
    "        filter_gene_by_counts=False,\n",
    "        filter_cell_by_counts=200,\n",
    "        log1p=True,\n",
    "        log1p_base=2,\n",
    "\n",
    "        tokenize_name=\"scBERT\",\n",
    "        cls_nb=1,\n",
    "        data_layer_name=\"X_log1p\",\n",
    "\n",
    "        auto_map_str_labels=False,\n",
    "        label_key = target_label,#\"pseudotimes\",\n",
    "\n",
    "        test_size=0.2,#0.2, #use all data to inference\n",
    "        binarize=None, # not binarize use original label for regression\n",
    "    )\n",
    "\n",
    "dataset_para = dataset_para_cls#dataset_para_cls\n",
    "print(dataset_para)"
   ]
  },
  {
   "cell_type": "code",
   "execution_count": null,
   "metadata": {},
   "outputs": [],
   "source": [
    "# if this is the first time to run, need this block to init translate=True\n",
    "# init preprocessor\n",
    "from scLLM.Dataset.Reader import scReader\n",
    "screader = scReader(dataset_para=dataset_para)\n",
    "# init vocab\n",
    "screader.init_vocab()\n",
    "\n",
    "# load data\n",
    "screader.load_adata(loc = data_path,translate=True)\n",
    "\n",
    "## preprocess\n",
    "screader.preprocess()"
   ]
  },
  {
   "cell_type": "code",
   "execution_count": 10,
   "metadata": {},
   "outputs": [
    {
     "name": "stderr",
     "output_type": "stream",
     "text": [
      "scLLM - INFO - Initializing preprocessor ...\n",
      "scLLM - INFO - use default vocab from dataset_para\n",
      "scLLM - INFO - load vocab from /home/shi/WorkSpace/projects/scMultiNet_workspace//Experiment/support_data/vocab_16k.json\n",
      "scLLM - INFO - Load data from anndata object.\n"
     ]
    }
   ],
   "source": [
    "# if not the first run \n",
    "# -----> 读取数据集\n",
    "from scLLM.Dataset.Reader import scReader\n",
    "data_reader = scReader(dataset_para)\n",
    "# init vocab from default file loc or from list/dict given as params\n",
    "data_reader.init_vocab()\n",
    "#load anndata\n",
    "data_reader.load_adata(loc = data_path,translate=False)"
   ]
  },
  {
   "cell_type": "code",
   "execution_count": 11,
   "metadata": {},
   "outputs": [
    {
     "name": "stdout",
     "output_type": "stream",
     "text": [
      "选择前的数据矩阵形状 (9268, 16906)\n",
      "选择后的数据矩阵形状 (9268, 16906)\n"
     ]
    }
   ],
   "source": [
    "target_stimulate = \"TGFb\"\n",
    "target_cellline = None #\"A549\" 'DU145', 'MCF7', 'OVCA420'\n",
    "map_stimulus = False\n",
    "map_cancer_type = False\n",
    "\n",
    "print(f\"选择前的数据矩阵形状 {data_reader.adata.shape}\")\n",
    "if map_stimulus:\n",
    "    stimilus_map = data_reader.adata.obs['stimulus']==target_stimulate\n",
    "    # filter out cells that are not stimulated by TGFb\n",
    "    new_adata = data_reader.adata[stimilus_map,:]\n",
    "    data_reader.adata = new_adata\n",
    "\n",
    "if map_cancer_type:\n",
    "    cancer_type_map = data_reader.adata.obs['CellLine']==target_cellline\n",
    "    # filter out cells that are not stimulated by TGFb\n",
    "    new_adata = data_reader.adata[cancer_type_map,:]\n",
    "    data_reader.adata = new_adata\n",
    "\n",
    "print(f\"选择后的数据矩阵形状 {data_reader.adata.shape}\")"
   ]
  },
  {
   "cell_type": "code",
   "execution_count": 13,
   "metadata": {},
   "outputs": [
    {
     "name": "stdout",
     "output_type": "stream",
     "text": [
      "['Mock_inner', 'Mock_outer', 'TGFB_inner', 'TGFB_outer']\n",
      "Categories (4, object): ['Mock_inner', 'Mock_outer', 'TGFB_inner', 'TGFB_outer']\n"
     ]
    }
   ],
   "source": [
    "label_unique = data_reader.adata.obs[dataset_para.label_key].unique()\n",
    "print(label_unique)\n",
    "label_dict = {'Mock_inner':0, 'Mock_outer':1, 'TGFB_inner':2, 'TGFB_outer':3}"
   ]
  },
  {
   "cell_type": "code",
   "execution_count": 14,
   "metadata": {},
   "outputs": [
    {
     "data": {
      "text/plain": [
       "AAACATACGAATAG.1_Mock_TGFB_agregated_samples    Mock_inner\n",
       "AAACATACGCTAAC.1_Mock_TGFB_agregated_samples    Mock_inner\n",
       "AAACATACGGACAG.1_Mock_TGFB_agregated_samples    Mock_inner\n",
       "AAACATTGTCTCAT.1_Mock_TGFB_agregated_samples    Mock_inner\n",
       "AAACCGTGTCACGA.1_Mock_TGFB_agregated_samples    Mock_inner\n",
       "                                                   ...    \n",
       "TTTCTACTGGGCAA.4_Mock_TGFB_agregated_samples    TGFB_outer\n",
       "TTTGACTGAGCCTA.4_Mock_TGFB_agregated_samples    TGFB_outer\n",
       "TTTGACTGGACGTT.4_Mock_TGFB_agregated_samples    TGFB_outer\n",
       "TTTGCATGAAGTAG.4_Mock_TGFB_agregated_samples    TGFB_outer\n",
       "TTTGCATGCTGAGT.4_Mock_TGFB_agregated_samples    TGFB_outer\n",
       "Name: Ground_truth, Length: 9268, dtype: category\n",
       "Categories (4, object): ['Mock_inner', 'Mock_outer', 'TGFB_inner', 'TGFB_outer']"
      ]
     },
     "execution_count": 14,
     "metadata": {},
     "output_type": "execute_result"
    }
   ],
   "source": [
    "data_reader.adata.obs[dataset_para.label_key]"
   ]
  },
  {
   "cell_type": "code",
   "execution_count": 15,
   "metadata": {},
   "outputs": [
    {
     "name": "stderr",
     "output_type": "stream",
     "text": [
      "scLLM - INFO - Map string labels to int automatically.\n",
      "scLLM - INFO - Mapping from {'Mock_inner': 0, 'Mock_outer': 1, 'TGFB_inner': 2, 'TGFB_outer': 3}\n",
      "scLLM - INFO - Discritize label Ground_truth in obs_names\n",
      "scLLM - INFO - Classification task, split with StratifiedShuffleSplit\n"
     ]
    },
    {
     "name": "stdout",
     "output_type": "stream",
     "text": [
      "trainset size:  7414\n",
      "valset size:  1854\n",
      "{'Mock_inner': 0, 'Mock_outer': 1, 'TGFB_inner': 2, 'TGFB_outer': 3}\n",
      "weights:  None\n"
     ]
    }
   ],
   "source": [
    "trainset,valset,weights = data_reader.postprocess()\n",
    "\n",
    "# 输出数据集信息\n",
    "print(\"trainset size: \",len(trainset))\n",
    "print(\"valset size: \",len(valset)) if valset is not None else print(\"no valset\")\n",
    "print(label_dict)\n",
    "print(\"weights: \",weights)"
   ]
  },
  {
   "cell_type": "code",
   "execution_count": 16,
   "metadata": {},
   "outputs": [],
   "source": [
    "import dill\n",
    "# 为trainset 添加其他labels\n",
    "\n",
    "#target_task = f\"/TrVal_dataset_GT_{target_stimulate}_{target_cellline}.pkl\"\n",
    "target_task = f\"/TrVal_dataset_{target_label}.pkl\"\n",
    "loc = save_root + target_task\n",
    "# 保存 trainset 到文件，并关联相应labels\n",
    "with open(loc,\"wb\") as f:\n",
    "    dill.dump([trainset,valset,weights,label_dict],f)"
   ]
  }
 ],
 "metadata": {
  "kernelspec": {
   "display_name": "scLLM",
   "language": "python",
   "name": "python3"
  },
  "language_info": {
   "codemirror_mode": {
    "name": "ipython",
    "version": 3
   },
   "file_extension": ".py",
   "mimetype": "text/x-python",
   "name": "python",
   "nbconvert_exporter": "python",
   "pygments_lexer": "ipython3",
   "version": "3.9.16"
  }
 },
 "nbformat": 4,
 "nbformat_minor": 2
}
